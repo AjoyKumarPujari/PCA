{
 "cells": [
  {
   "cell_type": "code",
   "execution_count": 22,
   "metadata": {},
   "outputs": [],
   "source": [
    "#Here we import all the require packages\n",
    "import numpy as np  #use to read the data set\n",
    "import pandas as pd #use to load the data set"
   ]
  },
  {
   "cell_type": "code",
   "execution_count": 49,
   "metadata": {},
   "outputs": [
    {
     "data": {
      "text/html": [
       "<div>\n",
       "<style scoped>\n",
       "    .dataframe tbody tr th:only-of-type {\n",
       "        vertical-align: middle;\n",
       "    }\n",
       "\n",
       "    .dataframe tbody tr th {\n",
       "        vertical-align: top;\n",
       "    }\n",
       "\n",
       "    .dataframe thead th {\n",
       "        text-align: right;\n",
       "    }\n",
       "</style>\n",
       "<table border=\"1\" class=\"dataframe\">\n",
       "  <thead>\n",
       "    <tr style=\"text-align: right;\">\n",
       "      <th></th>\n",
       "      <th>-3.125000000000000000e-02</th>\n",
       "      <th>2.363639999999999908e-01</th>\n",
       "      <th>2.380950000000000011e-01</th>\n",
       "      <th>-9.090910000000000657e-02</th>\n",
       "      <th>0.000000000000000000e+00</th>\n",
       "      <th>3.818179999999999907e-01</th>\n",
       "      <th>3.263159999999999950e-01</th>\n",
       "      <th>-1.562500000000000000e-02</th>\n",
       "      <th>-1.250000000000000000e-01</th>\n",
       "      <th>5.533979999999999455e-01</th>\n",
       "      <th>...</th>\n",
       "      <th>5.769229999999999636e-01</th>\n",
       "      <th>4.712640000000000162e-01</th>\n",
       "      <th>-3.333330000000000320e-02</th>\n",
       "      <th>-4.615380000000000177e-02</th>\n",
       "      <th>5.247519999999999962e-01</th>\n",
       "      <th>4.105260000000000020e-01</th>\n",
       "      <th>-1.562500000000000000e-02.2</th>\n",
       "      <th>-1.875000000000000000e-01.1</th>\n",
       "      <th>4.951459999999999750e-01</th>\n",
       "      <th>5.157890000000000530e-01</th>\n",
       "    </tr>\n",
       "  </thead>\n",
       "  <tbody>\n",
       "    <tr>\n",
       "      <th>0</th>\n",
       "      <td>-0.03125</td>\n",
       "      <td>0.309091</td>\n",
       "      <td>0.380952</td>\n",
       "      <td>0.074380</td>\n",
       "      <td>0.129032</td>\n",
       "      <td>0.472727</td>\n",
       "      <td>0.557895</td>\n",
       "      <td>0.078125</td>\n",
       "      <td>-0.03125</td>\n",
       "      <td>0.398058</td>\n",
       "      <td>...</td>\n",
       "      <td>0.519231</td>\n",
       "      <td>0.425287</td>\n",
       "      <td>0.000000</td>\n",
       "      <td>0.138462</td>\n",
       "      <td>0.663366</td>\n",
       "      <td>0.368421</td>\n",
       "      <td>0.015625</td>\n",
       "      <td>0.12500</td>\n",
       "      <td>0.533981</td>\n",
       "      <td>0.368421</td>\n",
       "    </tr>\n",
       "    <tr>\n",
       "      <th>1</th>\n",
       "      <td>-0.03125</td>\n",
       "      <td>0.381818</td>\n",
       "      <td>0.261905</td>\n",
       "      <td>-0.107438</td>\n",
       "      <td>0.000000</td>\n",
       "      <td>0.527273</td>\n",
       "      <td>0.326316</td>\n",
       "      <td>0.046875</td>\n",
       "      <td>-0.03125</td>\n",
       "      <td>0.631068</td>\n",
       "      <td>...</td>\n",
       "      <td>0.384615</td>\n",
       "      <td>0.103448</td>\n",
       "      <td>-0.250000</td>\n",
       "      <td>-0.138462</td>\n",
       "      <td>0.425743</td>\n",
       "      <td>0.263158</td>\n",
       "      <td>-0.109375</td>\n",
       "      <td>-0.03125</td>\n",
       "      <td>0.650485</td>\n",
       "      <td>0.452632</td>\n",
       "    </tr>\n",
       "    <tr>\n",
       "      <th>2</th>\n",
       "      <td>-0.03125</td>\n",
       "      <td>0.381818</td>\n",
       "      <td>0.285714</td>\n",
       "      <td>-0.123967</td>\n",
       "      <td>-0.129032</td>\n",
       "      <td>0.309091</td>\n",
       "      <td>0.073684</td>\n",
       "      <td>-0.156250</td>\n",
       "      <td>0.09375</td>\n",
       "      <td>0.398058</td>\n",
       "      <td>...</td>\n",
       "      <td>0.519231</td>\n",
       "      <td>0.425287</td>\n",
       "      <td>-0.050000</td>\n",
       "      <td>-0.107692</td>\n",
       "      <td>0.485149</td>\n",
       "      <td>0.368421</td>\n",
       "      <td>-0.031250</td>\n",
       "      <td>-0.25000</td>\n",
       "      <td>0.203883</td>\n",
       "      <td>0.094737</td>\n",
       "    </tr>\n",
       "    <tr>\n",
       "      <th>3</th>\n",
       "      <td>-0.03125</td>\n",
       "      <td>0.381818</td>\n",
       "      <td>0.357143</td>\n",
       "      <td>-0.024793</td>\n",
       "      <td>-0.096774</td>\n",
       "      <td>0.454545</td>\n",
       "      <td>0.431579</td>\n",
       "      <td>-0.015625</td>\n",
       "      <td>-0.25000</td>\n",
       "      <td>0.398058</td>\n",
       "      <td>...</td>\n",
       "      <td>0.480769</td>\n",
       "      <td>0.471264</td>\n",
       "      <td>-0.033333</td>\n",
       "      <td>-0.169231</td>\n",
       "      <td>0.524752</td>\n",
       "      <td>0.515789</td>\n",
       "      <td>-0.015625</td>\n",
       "      <td>-0.28125</td>\n",
       "      <td>0.495146</td>\n",
       "      <td>0.410526</td>\n",
       "    </tr>\n",
       "    <tr>\n",
       "      <th>4</th>\n",
       "      <td>-0.03125</td>\n",
       "      <td>0.381818</td>\n",
       "      <td>0.357143</td>\n",
       "      <td>-0.024793</td>\n",
       "      <td>0.000000</td>\n",
       "      <td>0.381818</td>\n",
       "      <td>0.431579</td>\n",
       "      <td>-0.015625</td>\n",
       "      <td>-0.03125</td>\n",
       "      <td>0.553398</td>\n",
       "      <td>...</td>\n",
       "      <td>0.480769</td>\n",
       "      <td>0.471264</td>\n",
       "      <td>-0.033333</td>\n",
       "      <td>-0.046154</td>\n",
       "      <td>0.623762</td>\n",
       "      <td>0.515789</td>\n",
       "      <td>0.046875</td>\n",
       "      <td>0.06250</td>\n",
       "      <td>0.592233</td>\n",
       "      <td>0.410526</td>\n",
       "    </tr>\n",
       "  </tbody>\n",
       "</table>\n",
       "<p>5 rows × 35 columns</p>\n",
       "</div>"
      ],
      "text/plain": [
       "   -3.125000000000000000e-02  2.363639999999999908e-01  \\\n",
       "0                   -0.03125                  0.309091   \n",
       "1                   -0.03125                  0.381818   \n",
       "2                   -0.03125                  0.381818   \n",
       "3                   -0.03125                  0.381818   \n",
       "4                   -0.03125                  0.381818   \n",
       "\n",
       "   2.380950000000000011e-01  -9.090910000000000657e-02  \\\n",
       "0                  0.380952                   0.074380   \n",
       "1                  0.261905                  -0.107438   \n",
       "2                  0.285714                  -0.123967   \n",
       "3                  0.357143                  -0.024793   \n",
       "4                  0.357143                  -0.024793   \n",
       "\n",
       "   0.000000000000000000e+00  3.818179999999999907e-01  \\\n",
       "0                  0.129032                  0.472727   \n",
       "1                  0.000000                  0.527273   \n",
       "2                 -0.129032                  0.309091   \n",
       "3                 -0.096774                  0.454545   \n",
       "4                  0.000000                  0.381818   \n",
       "\n",
       "   3.263159999999999950e-01  -1.562500000000000000e-02  \\\n",
       "0                  0.557895                   0.078125   \n",
       "1                  0.326316                   0.046875   \n",
       "2                  0.073684                  -0.156250   \n",
       "3                  0.431579                  -0.015625   \n",
       "4                  0.431579                  -0.015625   \n",
       "\n",
       "   -1.250000000000000000e-01  5.533979999999999455e-01  ...  \\\n",
       "0                   -0.03125                  0.398058  ...   \n",
       "1                   -0.03125                  0.631068  ...   \n",
       "2                    0.09375                  0.398058  ...   \n",
       "3                   -0.25000                  0.398058  ...   \n",
       "4                   -0.03125                  0.553398  ...   \n",
       "\n",
       "   5.769229999999999636e-01  4.712640000000000162e-01  \\\n",
       "0                  0.519231                  0.425287   \n",
       "1                  0.384615                  0.103448   \n",
       "2                  0.519231                  0.425287   \n",
       "3                  0.480769                  0.471264   \n",
       "4                  0.480769                  0.471264   \n",
       "\n",
       "   -3.333330000000000320e-02  -4.615380000000000177e-02  \\\n",
       "0                   0.000000                   0.138462   \n",
       "1                  -0.250000                  -0.138462   \n",
       "2                  -0.050000                  -0.107692   \n",
       "3                  -0.033333                  -0.169231   \n",
       "4                  -0.033333                  -0.046154   \n",
       "\n",
       "   5.247519999999999962e-01  4.105260000000000020e-01  \\\n",
       "0                  0.663366                  0.368421   \n",
       "1                  0.425743                  0.263158   \n",
       "2                  0.485149                  0.368421   \n",
       "3                  0.524752                  0.515789   \n",
       "4                  0.623762                  0.515789   \n",
       "\n",
       "   -1.562500000000000000e-02.2  -1.875000000000000000e-01.1  \\\n",
       "0                     0.015625                      0.12500   \n",
       "1                    -0.109375                     -0.03125   \n",
       "2                    -0.031250                     -0.25000   \n",
       "3                    -0.015625                     -0.28125   \n",
       "4                     0.046875                      0.06250   \n",
       "\n",
       "   4.951459999999999750e-01  5.157890000000000530e-01  \n",
       "0                  0.533981                  0.368421  \n",
       "1                  0.650485                  0.452632  \n",
       "2                  0.203883                  0.094737  \n",
       "3                  0.495146                  0.410526  \n",
       "4                  0.592233                  0.410526  \n",
       "\n",
       "[5 rows x 35 columns]"
      ]
     },
     "execution_count": 49,
     "metadata": {},
     "output_type": "execute_result"
    }
   ],
   "source": [
    "df =pd.read_csv ('Desktop/PCA_practice_dataset.csv')#load the data set\n",
    "df.head()"
   ]
  },
  {
   "cell_type": "code",
   "execution_count": 18,
   "metadata": {},
   "outputs": [
    {
     "data": {
      "text/plain": [
       "(8041, 35)"
      ]
     },
     "execution_count": 18,
     "metadata": {},
     "output_type": "execute_result"
    }
   ],
   "source": [
    "#convert the data into numpy\n",
    "x=df.to_numpy()\n",
    "x.shape"
   ]
  },
  {
   "cell_type": "code",
   "execution_count": 19,
   "metadata": {
    "scrolled": true
   },
   "outputs": [],
   "source": [
    "#we need to scale the data with mean 0 and SD=1 before we apply PCA\n",
    "from sklearn.preprocessing import StandardScaler"
   ]
  },
  {
   "cell_type": "code",
   "execution_count": 42,
   "metadata": {},
   "outputs": [
    {
     "data": {
      "text/plain": [
       "StandardScaler(copy=True, with_mean=True, with_std=True)"
      ]
     },
     "execution_count": 42,
     "metadata": {},
     "output_type": "execute_result"
    }
   ],
   "source": [
    "scaler=StandardScaler()\n",
    "df_std=scaler.fit_transform(df)\n",
    "scaler.fit(df)"
   ]
  },
  {
   "cell_type": "code",
   "execution_count": 44,
   "metadata": {},
   "outputs": [
    {
     "name": "stdout",
     "output_type": "stream",
     "text": [
      "[[1.00012436 0.86157631 0.0685758  ... 0.85145634 0.73894389 0.02717431]\n",
      " [0.86157631 1.00012436 0.15491667 ... 0.74213386 0.86636013 0.11742216]\n",
      " [0.0685758  0.15491667 1.00012436 ... 0.03936128 0.12257011 0.79200726]\n",
      " ...\n",
      " [0.85145634 0.74213386 0.03936128 ... 1.00012436 0.86007186 0.0565894 ]\n",
      " [0.73894389 0.86636013 0.12257011 ... 0.86007186 1.00012436 0.14026538]\n",
      " [0.02717431 0.11742216 0.79200726 ... 0.0565894  0.14026538 1.00012436]]\n"
     ]
    }
   ],
   "source": [
    "#calculatingcovariance matrix\n",
    "cov_mat = np.cov(df_std.T)\n",
    "print(cov_mat)"
   ]
  },
  {
   "cell_type": "code",
   "execution_count": 51,
   "metadata": {},
   "outputs": [
    {
     "name": "stdout",
     "output_type": "stream",
     "text": [
      "[1.72572987e+01 1.34739718e+01 1.18165756e+00 7.54483770e-01\n",
      " 6.05041722e-01 4.28945506e-01 3.70744051e-01 1.41208715e-01\n",
      " 1.15518788e-01 9.16393443e-02 7.46974252e-02 5.56474427e-02\n",
      " 5.24520251e-02 4.21088746e-02 3.62003047e-02 3.47672708e-02\n",
      " 2.98528834e-02 2.63259944e-02 2.33964593e-02 2.22980492e-02\n",
      " 2.08352079e-02 1.93663954e-02 5.73848351e-03 7.09499159e-03\n",
      " 7.97127827e-03 8.94788508e-03 9.23739085e-03 1.05475796e-02\n",
      " 1.13011710e-02 1.60158575e-02 1.22860731e-02 1.29147249e-02\n",
      " 1.52408810e-02 1.46808743e-02 1.39172601e-02]\n",
      "_____________\n",
      "[[-0.20139812 -0.10217958 -0.23135627 ...  0.19638892  0.14929058\n",
      "   0.08349877]\n",
      " [-0.19705914 -0.12067153  0.21804918 ... -0.14449533 -0.00045371\n",
      "  -0.13089901]\n",
      " [ 0.07684435 -0.23850839  0.03352054 ... -0.25480732  0.01694056\n",
      "   0.03877879]\n",
      " ...\n",
      " [-0.20020188 -0.10367942 -0.24573234 ...  0.3264884   0.04467658\n",
      "   0.10002953]\n",
      " [-0.19598222 -0.12087454  0.20585246 ... -0.28420888  0.15214079\n",
      "  -0.05997094]\n",
      " [ 0.07903033 -0.23526373  0.06041652 ... -0.00104342 -0.0663822\n",
      "  -0.01265076]]\n"
     ]
    }
   ],
   "source": [
    "#calculating eygon values and eygon vectors\n",
    "eigen_vals, eigen_vecs = np.linalg.eig(cov_mat)\n",
    "print(eigen_vals)\n",
    "print('_____________')\n",
    "print(eigen_vecs)"
   ]
  },
  {
   "cell_type": "code",
   "execution_count": 52,
   "metadata": {},
   "outputs": [],
   "source": [
    "#Applying Principal Component analysis\n",
    "from sklearn.decomposition import PCA"
   ]
  },
  {
   "cell_type": "code",
   "execution_count": 26,
   "metadata": {},
   "outputs": [],
   "source": [
    "pca=PCA()\n",
    "X=pca.fit_transform(x)"
   ]
  },
  {
   "cell_type": "code",
   "execution_count": 27,
   "metadata": {},
   "outputs": [
    {
     "name": "stdout",
     "output_type": "stream",
     "text": [
      "[ 56.21321212  87.57674036  91.5169642   93.71928392  95.22482739\n",
      "  96.53058215  97.45372452  97.84029702  98.15352479  98.39923723\n",
      "  98.61269865  98.74735265  98.8675485   98.98243546  99.09468727\n",
      "  99.20464671  99.2859308   99.35867302  99.4259204   99.48408252\n",
      "  99.54015387  99.59208862  99.63948302  99.68487718  99.72795038\n",
      "  99.76405007  99.79848483  99.83007454  99.85994563  99.8880551\n",
      "  99.91462426  99.93873281  99.96179438  99.98261329 100.        ]\n"
     ]
    }
   ],
   "source": [
    "#get a sum of all the eigon values fo corrosponding eigon vectors\n",
    "c_varience = np.cumsum(pca.explained_variance_ratio_)*100\n",
    "print(c_varience )"
   ]
  },
  {
   "cell_type": "code",
   "execution_count": 28,
   "metadata": {},
   "outputs": [
    {
     "name": "stdout",
     "output_type": "stream",
     "text": [
      "[90, 91, 92, 93, 94, 95, 96, 97]\n"
     ]
    }
   ],
   "source": [
    "#we declared list of our desire thresholds\n",
    "thresholds=[i for i in range(90,97+1,1)]\n",
    "print(thresholds )"
   ]
  },
  {
   "cell_type": "code",
   "execution_count": 37,
   "metadata": {},
   "outputs": [
    {
     "name": "stdout",
     "output_type": "stream",
     "text": [
      "[2, 2, 3, 3, 4, 4, 5, 6]\n",
      "Components required for90% threshold are:2\n",
      "Components required for91% threshold are:2\n",
      "Components required for92% threshold are:3\n",
      "Components required for93% threshold are:3\n",
      "Components required for94% threshold are:4\n",
      "Components required for95% threshold are:4\n",
      "Components required for96% threshold are:5\n",
      "Components required for97% threshold are:6\n"
     ]
    }
   ],
   "source": [
    "#here we make a list of compoents required to retain the variace as mentioned in our required threshold list\n",
    "components =[np.argmax(c_varience>threshold)for threshold in thresholds]\n",
    "print(components)\n",
    "for component, threshold in zip(components,thresholds):\n",
    "    print(\"Components required for{}% threshold are:{}\".format(threshold,component))"
   ]
  },
  {
   "cell_type": "code",
   "execution_count": 38,
   "metadata": {
    "scrolled": true
   },
   "outputs": [
    {
     "data": {
      "image/png": "[encoded data removed]",
      "text/plain": [
       "<Figure size 432x288 with 1 Axes>"
      ]
     },
     "metadata": {
      "needs_background": "light"
     },
     "output_type": "display_data"
    }
   ],
   "source": [
    "import matplotlib.pyplot as plt\n",
    "plt.plot(components,range(90,97+1,1),'ro-',linewidth=2)\n",
    "plt.title('Scree Plot')\n",
    "plt.xlabel('principal component')\n",
    "plt.ylabel('Threshold in %')\n",
    "plt.show()\n"
   ]
  },
  {
   "cell_type": "code",
   "execution_count": 54,
   "metadata": {},
   "outputs": [
    {
     "name": "stdout",
     "output_type": "stream",
     "text": [
      "performing d.r.to retain 90% threshold\n",
      "after performing dimensionality reduction ,new shape of the dataset is: (8041, 2)\n",
      "\n",
      "\n",
      "performing d.r.to retain 91% threshold\n",
      "after performing dimensionality reduction ,new shape of the dataset is: (8041, 2)\n",
      "\n",
      "\n",
      "performing d.r.to retain 92% threshold\n",
      "after performing dimensionality reduction ,new shape of the dataset is: (8041, 3)\n",
      "\n",
      "\n",
      "performing d.r.to retain 93% threshold\n",
      "after performing dimensionality reduction ,new shape of the dataset is: (8041, 3)\n",
      "\n",
      "\n",
      "performing d.r.to retain 94% threshold\n",
      "after performing dimensionality reduction ,new shape of the dataset is: (8041, 4)\n",
      "\n",
      "\n",
      "performing d.r.to retain 95% threshold\n",
      "after performing dimensionality reduction ,new shape of the dataset is: (8041, 4)\n",
      "\n",
      "\n",
      "performing d.r.to retain 96% threshold\n",
      "after performing dimensionality reduction ,new shape of the dataset is: (8041, 5)\n",
      "\n",
      "\n",
      "performing d.r.to retain 97% threshold\n",
      "after performing dimensionality reduction ,new shape of the dataset is: (8041, 6)\n",
      "\n",
      "\n"
     ]
    }
   ],
   "source": [
    "#now we perform dimensionality reduction\n",
    "X_orig=X\n",
    "for component,var in zip(components,thresholds):\n",
    "    pca=PCA(n_components=component)\n",
    "    X_transformed=pca.fit_transform(X_orig)\n",
    "    print('performing d.r.to retain {}% threshold'.format(var))\n",
    "    print('after performing dimensionality reduction ,new shape of the dataset is:',X_transformed.shape)\n",
    "    print('\\n')\n"
   ]
  },
  {
   "cell_type": "code",
   "execution_count": null,
   "metadata": {},
   "outputs": [],
   "source": []
  }
 ],
 "metadata": {
  "kernelspec": {
   "display_name": "Python 3",
   "language": "python",
   "name": "python3"
  },
  "language_info": {
   "codemirror_mode": {
    "name": "ipython",
    "version": 3
   },
   "file_extension": ".py",
   "mimetype": "text/x-python",
   "name": "python",
   "nbconvert_exporter": "python",
   "pygments_lexer": "ipython3",
   "version": "3.7.6"
  }
 },
 "nbformat": 4,
 "nbformat_minor": 4
}
